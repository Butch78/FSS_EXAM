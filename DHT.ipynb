{
 "cells": [
  {
   "cell_type": "code",
   "execution_count": 32,
   "metadata": {},
   "outputs": [],
   "source": [
    "# Query the successor node for the responsible node for a key of all the keys in the DHT\n",
    "\n",
    "\n",
    "def get_target_id(current_id, i, m) -> int:\n",
    "    return (current_id + 2 ** i) % (2 ** m)\n"
   ]
  },
  {
   "cell_type": "code",
   "execution_count": 33,
   "metadata": {},
   "outputs": [
    {
     "name": "stdout",
     "output_type": "stream",
     "text": [
      "8\n",
      "Target Id: 56 Node: Node 2\n",
      "Target Id: 57 Node: Node 2\n",
      "Target Id: 59 Node: Node 2\n",
      "Target Id: 63 Node: Node 2\n",
      "Target Id: 71 Node: Node 3\n",
      "Target Id: 87 Node: Node 3\n",
      "Target Id: 119 Node: Node 3\n",
      "Target Id: 183 Node: Node 3\n"
     ]
    }
   ],
   "source": [
    "#  Change Current Id depending on the node\n",
    "\n",
    "import math\n",
    "\n",
    "current_id = 55\n",
    "hash_range = 256\n",
    "# m = square root of hash range\n",
    "m = int(math.log(hash_range, 2))\n",
    "\n",
    "# Change hash values depending on the node\n",
    "# Node 1 covers the hash range [3-55]\n",
    "# Node 2 covers the hash range [56-70]\n",
    "# Node 3 covers the hash range [71-200]\n",
    "# Node 4 covers the hash range [201-240]\n",
    "# Node 5 covers the hash range [241-2]\n",
    "\n",
    "\n",
    "#  range in python \n",
    "Node_1 = [3, 55]\n",
    "Node_2 = [56, 70]\n",
    "Node_3 = [71, 200]\n",
    "Node_4 = [201, 240]\n",
    "Node_5 = [241, 2]\n",
    "\n",
    "\n",
    "print(m)\n",
    "\n",
    "for i in range(m):\n",
    "\n",
    "    target_id = get_target_id(current_id, i, m)\n",
    "    if target_id >= Node_1[0] and target_id <= Node_1[1]:\n",
    "        print(\"Target Id:\", target_id, \"Node: Node 1\")\n",
    "    elif target_id >= Node_2[0] and target_id <= Node_2[1]:\n",
    "        print(\"Target Id:\", target_id, \"Node: Node 2\")\n",
    "    elif target_id >= Node_3[0] and target_id <= Node_3[1]:\n",
    "        print(\"Target Id:\", target_id, \"Node: Node 3\")\n",
    "    elif target_id >= Node_4[0] and target_id <= Node_4[1]:\n",
    "        print(\"Target Id:\", target_id, \"Node: Node 4\")\n",
    "    elif target_id >= Node_5[0] and target_id <= Node_5[1]:\n",
    "        print(\"Target Id:\", target_id, \"Node: Node 5\")\n",
    "\n",
    "    else :\n",
    "        print(\"Target Id:\", target_id, \"Node: Node 1\")\n",
    "    \n",
    "\n"
   ]
  }
 ],
 "metadata": {
  "kernelspec": {
   "display_name": ".env",
   "language": "python",
   "name": "python3"
  },
  "language_info": {
   "codemirror_mode": {
    "name": "ipython",
    "version": 3
   },
   "file_extension": ".py",
   "mimetype": "text/x-python",
   "name": "python",
   "nbconvert_exporter": "python",
   "pygments_lexer": "ipython3",
   "version": "3.10.6"
  },
  "orig_nbformat": 4,
  "vscode": {
   "interpreter": {
    "hash": "e0837ec5581c3e3537f9c3a6e2cff29acd63e9b745f446eed25056b79f2d6f64"
   }
  }
 },
 "nbformat": 4,
 "nbformat_minor": 2
}
