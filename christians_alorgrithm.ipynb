{
 "cells": [
  {
   "cell_type": "code",
   "execution_count": 1,
   "metadata": {},
   "outputs": [],
   "source": [
    "import datetime\n",
    "\n",
    "T1 = datetime.datetime.now()\n",
    "T2 = datetime.datetime.now()\n",
    "T3 = datetime.datetime.now()\n",
    "T4 = datetime.datetime.now()\n",
    "\n",
    "# Transmission delay using Cristian’s Algorithm function\n",
    "def transmission_delay(T1, T2, T3, T4):\n",
    "    return ((T4 - T1) + (T3 - T2)) / 2"
   ]
  },
  {
   "cell_type": "code",
   "execution_count": 2,
   "metadata": {},
   "outputs": [
    {
     "name": "stdout",
     "output_type": "stream",
     "text": [
      "0:00:00\n"
     ]
    }
   ],
   "source": [
    "print(transmission_delay(T1, T2, T3, T4))"
   ]
  }
 ],
 "metadata": {
  "kernelspec": {
   "display_name": ".env",
   "language": "python",
   "name": "python3"
  },
  "language_info": {
   "codemirror_mode": {
    "name": "ipython",
    "version": 3
   },
   "file_extension": ".py",
   "mimetype": "text/x-python",
   "name": "python",
   "nbconvert_exporter": "python",
   "pygments_lexer": "ipython3",
   "version": "3.10.6 (main, Nov 14 2022, 16:10:14) [GCC 11.3.0]"
  },
  "orig_nbformat": 4,
  "vscode": {
   "interpreter": {
    "hash": "e0837ec5581c3e3537f9c3a6e2cff29acd63e9b745f446eed25056b79f2d6f64"
   }
  }
 },
 "nbformat": 4,
 "nbformat_minor": 2
}
